{
 "cells": [
  {
   "cell_type": "code",
   "execution_count": null,
   "metadata": {},
   "outputs": [],
   "source": [
    "import torch\n",
    "from torchmetrics.classification.matthews_corrcoef import BinaryMatthewsCorrCoef\n",
    "from torchmetrics.functional.classification.matthews_corrcoef import binary_matthews_corrcoef\n",
    "\n",
    "from tqdm.auto import tqdm"
   ]
  },
  {
   "cell_type": "code",
   "execution_count": null,
   "metadata": {},
   "outputs": [],
   "source": [
    "device = \"cuda\"\n",
    "\n",
    "mcc = BinaryMatthewsCorrCoef(compute_on_step=False).to(device)\n",
    "fnmcc = binary_matthews_corrcoef"
   ]
  },
  {
   "cell_type": "code",
   "execution_count": null,
   "metadata": {},
   "outputs": [],
   "source": [
    "fnmccs = []\n",
    "for i in tqdm(range(100)):\n",
    "    pred = torch.randint(0, 2, (1080, 1920)).to(device)\n",
    "    target = torch.randint(0, 2, (1080, 1920)).to(device)\n",
    "\n",
    "    fnmccs.append(fnmcc(pred, target))\n",
    "    mcc.update(pred, target)"
   ]
  },
  {
   "cell_type": "code",
   "execution_count": null,
   "metadata": {},
   "outputs": [],
   "source": [
    "pred = torch.randint(0, 2, (1080, 1920)).to(device) * 0\n",
    "target = torch.randint(0, 2, (1080, 1920)).to(device) * 0\n",
    "\n",
    "mcc.update(pred, target)\n",
    "fnmccs.append(fnmcc(pred, target))"
   ]
  },
  {
   "cell_type": "code",
   "execution_count": null,
   "metadata": {},
   "outputs": [],
   "source": [
    "torch.tensor(fnmccs).mean(), mcc.compute()"
   ]
  },
  {
   "cell_type": "code",
   "execution_count": null,
   "metadata": {},
   "outputs": [],
   "source": [
    "mcc.confmat"
   ]
  }
 ],
 "metadata": {
  "kernelspec": {
   "display_name": "Python 3.9.15 ('pyt_tf2')",
   "language": "python",
   "name": "python3"
  },
  "language_info": {
   "codemirror_mode": {
    "name": "ipython",
    "version": 3
   },
   "file_extension": ".py",
   "mimetype": "text/x-python",
   "name": "python",
   "nbconvert_exporter": "python",
   "pygments_lexer": "ipython3",
   "version": "3.9.15"
  },
  "orig_nbformat": 4,
  "vscode": {
   "interpreter": {
    "hash": "0421650a8a5845f713c56c3ba4f436fc22593ad99b656f8436ea71c2ab26d6c1"
   }
  }
 },
 "nbformat": 4,
 "nbformat_minor": 2
}
